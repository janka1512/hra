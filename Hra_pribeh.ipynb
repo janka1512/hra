{
  "nbformat": 4,
  "nbformat_minor": 0,
  "metadata": {
    "colab": {
      "provenance": [],
      "authorship_tag": "ABX9TyMOLSPn+NmzuNRP+o+QqQvg",
      "include_colab_link": true
    },
    "kernelspec": {
      "name": "python3",
      "display_name": "Python 3"
    },
    "language_info": {
      "name": "python"
    }
  },
  "cells": [
    {
      "cell_type": "markdown",
      "metadata": {
        "id": "view-in-github",
        "colab_type": "text"
      },
      "source": [
        "<a href=\"https://colab.research.google.com/github/janka1512/hra/blob/main/Hra_pribeh.ipynb\" target=\"_parent\"><img src=\"https://colab.research.google.com/assets/colab-badge.svg\" alt=\"Open In Colab\"/></a>"
      ]
    },
    {
      "cell_type": "code",
      "execution_count": null,
      "metadata": {
        "id": "4ot0NqZrfR_G"
      },
      "outputs": [],
      "source": []
    },
    {
      "cell_type": "markdown",
      "source": [
        "# Tvorba hry\n",
        "Príbeh s dvomi možnosťami na konci 2. Po výbere sa vytvorí ďaľšia časť príbehu. Vždy je len jedna možnosť správna."
      ],
      "metadata": {
        "id": "0EuGx0EFgI9m"
      }
    },
    {
      "cell_type": "code",
      "source": [
        "def uvod():\n",
        "    print(\"Nachádzaš sa na okraji temného lesa. Počuješ šepot vetra a praskot konárov.\")\n",
        "    print(\"Máš dve možnosti:\")\n",
        "    print(\"1. Vstúpiť do lesa\")\n",
        "    print(\"2. Otočiť sa a ísť domov\")\n",
        "\n",
        "    vyber = input(\"Zadaj 1 alebo 2: \")\n",
        "    if vyber == \"1\":\n",
        "        les()\n",
        "    elif vyber == \"2\":\n",
        "        koniec(False)\n",
        "    else:\n",
        "        print(\"Neplatný výber.\")\n",
        "        uvod()\n",
        "\n",
        "def les():\n",
        "    print(\"\\nVstúpil si do lesa. Po chvíli nájdeš starý opustený dom.\")\n",
        "    print(\"Máš dve možnosti:\")\n",
        "    print(\"1. Vstúpiť do domu\")\n",
        "    print(\"2. Pokračovať ďalej lesom\")\n",
        "\n",
        "    vyber = input(\"Zadaj 1 alebo 2: \")\n",
        "    if vyber == \"1\":\n",
        "        dom()\n",
        "    elif vyber == \"2\":\n",
        "        koniec(False)\n",
        "    else:\n",
        "        print(\"Neplatný výber.\")\n",
        "        les()\n",
        "\n",
        "def dom():\n",
        "    print(\"\\nVo vnútri domu je ticho... až príliš ticho. Na stole vidíš kľúč a vedľa neho list.\")\n",
        "    print(\"Máš dve možnosti:\")\n",
        "    print(\"1. Vziať kľúč\")\n",
        "    print(\"2. Prečítať list\")\n",
        "\n",
        "    vyber = input(\"Zadaj 1 alebo 2: \")\n",
        "    if vyber == \"2\":\n",
        "        vitazstvo()\n",
        "    elif vyber == \"1\":\n",
        "        koniec(False)\n",
        "    else:\n",
        "        print(\"Neplatný výber.\")\n",
        "        dom()\n",
        "\n",
        "def vitazstvo():\n",
        "    print(\"\\nV liste sa píše o poklade zakopanom neďaleko domu. Podarí sa ti ho nájsť!\")\n",
        "    print(\"🎉 Gratulujem! Vybral/a si správne a vyhral/a si! 🎉\")\n",
        "\n",
        "def koniec(uspesne):\n",
        "    if uspesne:\n",
        "        print(\"\\nPríbeh končí šťastne.\")\n",
        "    else:\n",
        "        print(\"\\nZvolil/a si nesprávne. Príbeh sa končí neúspešne. Skús to znova!\")\n",
        "\n",
        "# Spustenie príbehu\n",
        "uvod()"
      ],
      "metadata": {
        "colab": {
          "base_uri": "https://localhost:8080/"
        },
        "id": "erMyoFKbhUr9",
        "outputId": "cbf045ff-3935-4528-cd84-7c04707bc1f4"
      },
      "execution_count": null,
      "outputs": [
        {
          "output_type": "stream",
          "name": "stdout",
          "text": [
            "Nachádzaš sa na okraji temného lesa. Počuješ šepot vetra a praskot konárov.\n",
            "Máš dve možnosti:\n",
            "1. Vstúpiť do lesa\n",
            "2. Otočiť sa a ísť domov\n"
          ]
        }
      ]
    },
    {
      "cell_type": "code",
      "source": [],
      "metadata": {
        "id": "ZFM8I1qrhJJC"
      },
      "execution_count": null,
      "outputs": []
    }
  ]
}